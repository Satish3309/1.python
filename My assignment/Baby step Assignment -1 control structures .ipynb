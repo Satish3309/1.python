{
 "cells": [
  {
   "cell_type": "code",
   "execution_count": 1,
   "id": "ea096f09-8371-41d8-aa3e-307d12beec91",
   "metadata": {},
   "outputs": [
    {
     "name": "stdout",
     "output_type": "stream",
     "text": [
      "Welcome to Assignment-1\n"
     ]
    }
   ],
   "source": [
    "print(\"Welcome to Assignment-1\")"
   ]
  },
  {
   "cell_type": "code",
   "execution_count": 8,
   "id": "237079ac-72c6-42bc-85d4-b43e57dd34a8",
   "metadata": {},
   "outputs": [
    {
     "name": "stdout",
     "output_type": "stream",
     "text": [
      "Num1= 10\n",
      "Num2= 30\n",
      "40\n",
      "Add= 40\n"
     ]
    }
   ],
   "source": [
    " Num1= 10\n",
    " Num2= 30\n",
    " Add=Num1+Num2 \n",
    "print(\"Num1= 10\")\n",
    "print(\"Num2= 30\")\n",
    "print(Add)\n",
    "print(\"Add= 40\")\n"
   ]
  },
  {
   "cell_type": "markdown",
   "id": "03c8510b-7f70-4395-93ad-9c6d84e63871",
   "metadata": {},
   "source": [
    " Enter the BMI Index:34\n",
    " Very Overweight\n",
    " \n",
    " My table \n",
    " Under weight        <18.5\n",
    " Normal              <24.9\n",
    " Over Weight         <29\n",
    " very over weight    <39\n",
    " Extream obese       >=40\n",
    " "
   ]
  },
  {
   "cell_type": "code",
   "execution_count": 11,
   "id": "f75cbbab-3b95-471b-8c7a-4ed6d7ed5e57",
   "metadata": {},
   "outputs": [
    {
     "name": "stdin",
     "output_type": "stream",
     "text": [
      "Enter the BMI intex: 34\n"
     ]
    }
   ],
   "source": [
    "Intex= int(input(\"Enter the BMI intex:\"))\n"
   ]
  },
  {
   "cell_type": "code",
   "execution_count": 23,
   "id": "4e8c7edc-2aea-4367-a380-59fa12b0221a",
   "metadata": {},
   "outputs": [
    {
     "name": "stdout",
     "output_type": "stream",
     "text": [
      "Very over Weight\n"
     ]
    }
   ],
   "source": [
    "if(Intex<18.5) :\n",
    "    print(\"Under weight\")\n",
    "elif(Intex<24.9):\n",
    "    print(\"Narmal\")\n",
    "elif(Intex<29):\n",
    "    print(\"Over Weight\")\n",
    "elif(Intex<39 ):\n",
    "    print(\"Very over Weight\")\n",
    "else:\n",
    "    print(\"Extresm over Weight\")\n"
   ]
  },
  {
   "cell_type": "code",
   "execution_count": null,
   "id": "f154e99d-edaf-4875-a659-dc08f4065e91",
   "metadata": {},
   "outputs": [],
   "source": []
  }
 ],
 "metadata": {
  "kernelspec": {
   "display_name": "Python 3 (ipykernel)",
   "language": "python",
   "name": "python3"
  },
  "language_info": {
   "codemirror_mode": {
    "name": "ipython",
    "version": 3
   },
   "file_extension": ".py",
   "mimetype": "text/x-python",
   "name": "python",
   "nbconvert_exporter": "python",
   "pygments_lexer": "ipython3",
   "version": "3.12.7"
  }
 },
 "nbformat": 4,
 "nbformat_minor": 5
}
