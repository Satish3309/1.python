{
 "cells": [
  {
   "cell_type": "code",
   "execution_count": 21,
   "id": "e1ae3a4b-b389-4817-9ccb-d928d2063451",
   "metadata": {},
   "outputs": [],
   "source": [
    "list=['Sub-fields in AI are:','Machine Learning','Neural Networks','Vision' ,'Robotics','Speech Processing' ,'Natural Language Processing'] "
   ]
  },
  {
   "cell_type": "code",
   "execution_count": 27,
   "id": "a28dd429-6170-4524-aef3-4729f256b035",
   "metadata": {},
   "outputs": [],
   "source": [
    "def SubfieldsInAI_Subfields():\n",
    "    for field in list:\n",
    "        print(field)\n",
    "    \n",
    "    "
   ]
  },
  {
   "cell_type": "code",
   "execution_count": 28,
   "id": "dab0c379-4821-48ee-8cb9-cd44a8b74a29",
   "metadata": {},
   "outputs": [
    {
     "name": "stdout",
     "output_type": "stream",
     "text": [
      "Sub-fields in AI are:\n",
      "Machine Learning\n",
      "Neural Networks\n",
      "Vision\n",
      "Robotics\n",
      "Speech Processing\n",
      "Natural Language Processing\n"
     ]
    }
   ],
   "source": [
    "SubfieldsInAI_Subfields()"
   ]
  },
  {
   "cell_type": "code",
   "execution_count": 31,
   "id": "45039caf-3f8a-4e59-877d-4ab2f4c60944",
   "metadata": {},
   "outputs": [
    {
     "name": "stdin",
     "output_type": "stream",
     "text": [
      "Enter a number: 52452\n"
     ]
    }
   ],
   "source": [
    "num=int(input(\"Enter a number:\"))\n",
    "def OddEven_OddEven():\n",
    "    if(num%2==0):\n",
    "        print(num,'is even number')\n",
    "        message = 'even number'\n",
    "    else:\n",
    "        print(num,'is odd number')\n",
    "        message = 'odd number'\n",
    "    return message"
   ]
  },
  {
   "cell_type": "code",
   "execution_count": 42,
   "id": "698df639-11fd-45ba-b1f7-2a0445d74b4f",
   "metadata": {},
   "outputs": [
    {
     "name": "stdout",
     "output_type": "stream",
     "text": [
      "52452 is even number\n"
     ]
    },
    {
     "data": {
      "text/plain": [
       "'even number'"
      ]
     },
     "execution_count": 42,
     "metadata": {},
     "output_type": "execute_result"
    }
   ],
   "source": [
    "OddEven_OddEven()"
   ]
  },
  {
   "cell_type": "code",
   "execution_count": 43,
   "id": "6fed7a1c-999c-46c2-996a-c230f687072b",
   "metadata": {},
   "outputs": [
    {
     "name": "stdout",
     "output_type": "stream",
     "text": [
      "52452 is even number\n"
     ]
    }
   ],
   "source": [
    "result=OddEven_OddEven()"
   ]
  },
  {
   "cell_type": "code",
   "execution_count": 50,
   "id": "1ba09675-29d9-49d7-a1be-21223ef7c0bb",
   "metadata": {},
   "outputs": [],
   "source": [
    "def Elegiblity_ForMarriage_Elegible():\n",
    "    Gen=input(\"Your Genter:\")\n",
    "    Age=int(input(\"Your Age:\"))\n",
    "    if(Gen==\"Male\"):\n",
    "        if(Age<=21): \n",
    "            print('NOT ELIGIBLE.wait until your age turn 21')\n",
    "            message ='NOT ELIGIBLE'    \n",
    "        else:\n",
    "            print('ELIGIBLE')\n",
    "            message = 'ELIGIBLE'\n",
    "    elif(Gen==\"Female\"):\n",
    "        if(Age<=18):\n",
    "            print('NOT ELIGIBLE.wait until your age turn 18')\n",
    "            message ='NOT ELIGIBLE'               \n",
    "        else:\n",
    "            print('ELIGIBLE')\n",
    "            message = 'ELIGIBLE'\n",
    "    else:\n",
    "        print('Invadid data.Enter Male or Female')\n",
    "        message = 'Invadid data.Enter Male or Female'\n",
    "    return message"
   ]
  },
  {
   "cell_type": "code",
   "execution_count": 47,
   "id": "0cd38ba2-9ebc-4b82-92e1-cb9062e88da8",
   "metadata": {},
   "outputs": [
    {
     "name": "stdin",
     "output_type": "stream",
     "text": [
      "Your Genter: Male\n",
      "Your Age: 20\n"
     ]
    },
    {
     "name": "stdout",
     "output_type": "stream",
     "text": [
      "NOT ELIGIBLE.wait until your age turn 21\n"
     ]
    },
    {
     "data": {
      "text/plain": [
       "'NOT ELIGIBLE'"
      ]
     },
     "execution_count": 47,
     "metadata": {},
     "output_type": "execute_result"
    }
   ],
   "source": [
    "\n",
    "Elegiblity_ForMarriage_Elegible()"
   ]
  },
  {
   "cell_type": "code",
   "execution_count": 48,
   "id": "c878ceea-c52c-459c-821d-f39b954a68f5",
   "metadata": {},
   "outputs": [
    {
     "name": "stdin",
     "output_type": "stream",
     "text": [
      "Your Genter: Female\n",
      "Your Age: 16\n"
     ]
    },
    {
     "name": "stdout",
     "output_type": "stream",
     "text": [
      "NOT ELIGIBLE.wait until your age turn 18\n"
     ]
    },
    {
     "data": {
      "text/plain": [
       "'NOT ELIGIBLE'"
      ]
     },
     "execution_count": 48,
     "metadata": {},
     "output_type": "execute_result"
    }
   ],
   "source": [
    "Elegiblity_ForMarriage_Elegible()"
   ]
  },
  {
   "cell_type": "code",
   "execution_count": 51,
   "id": "0dc66311-b179-4d5f-b7b2-e95d233c3853",
   "metadata": {},
   "outputs": [
    {
     "name": "stdin",
     "output_type": "stream",
     "text": [
      "Your Genter: other\n",
      "Your Age: 20\n"
     ]
    },
    {
     "name": "stdout",
     "output_type": "stream",
     "text": [
      "Invadid data.Enter Male or Female\n"
     ]
    },
    {
     "data": {
      "text/plain": [
       "'Invadid data.Enter Male or Female'"
      ]
     },
     "execution_count": 51,
     "metadata": {},
     "output_type": "execute_result"
    }
   ],
   "source": [
    "Elegiblity_ForMarriage_Elegible()\n"
   ]
  },
  {
   "cell_type": "code",
   "execution_count": 68,
   "id": "13471176-d349-43b1-b9f7-53cee454cb8c",
   "metadata": {},
   "outputs": [],
   "source": [
    "def Find_avg(Sub1,Sub2,Sub3,Sub4,Sub5):\n",
    "    Add=(Sub1+Sub2+Sub3+Sub4+Sub5)\n",
    "    print(\"Total:\", Add)\n",
    "    persentage=(Add/5)\n",
    "    print('Percentage:',persentage)\n",
    "    return persentage\n",
    "    \n",
    "    "
   ]
  },
  {
   "cell_type": "code",
   "execution_count": 69,
   "id": "4b99b0c8-9fba-4070-bed2-8661e206bc1a",
   "metadata": {},
   "outputs": [
    {
     "name": "stdin",
     "output_type": "stream",
     "text": [
      "Subject1= 98\n",
      "Subject2= 87\n",
      "Subject3= 95\n",
      "Subject4= 95\n",
      "Subject5= 93\n"
     ]
    },
    {
     "name": "stdout",
     "output_type": "stream",
     "text": [
      "Total: 468\n",
      "Percentage: 93.6\n"
     ]
    },
    {
     "data": {
      "text/plain": [
       "93.6"
      ]
     },
     "execution_count": 69,
     "metadata": {},
     "output_type": "execute_result"
    }
   ],
   "source": [
    "Sub1=int(input(\"Subject1=\"))\n",
    "Sub2=int(input(\"Subject2=\"))\n",
    "Sub3=int(input(\"Subject3=\"))\n",
    "Sub4=int(input(\"Subject4=\"))\n",
    "Sub5=int(input(\"Subject5=\"))\n",
    "Find_avg(Sub1,Sub2,Sub3,Sub4,Sub5)"
   ]
  },
  {
   "cell_type": "code",
   "execution_count": 111,
   "id": "066855d9-623a-4d7e-b9c1-0805e0a20336",
   "metadata": {},
   "outputs": [],
   "source": [
    "def Area_perimeter_of_tri():\n",
    "    Height=int(input(\"Height:\"))\n",
    "    Breadth=int(input(\"Breadth:\"))\n",
    "    print('Area formula:, (Height*Breadth)/2')\n",
    "    Area_of_traiangle=(Height*Breadth)/2\n",
    "    print('Area_of_traiangle:',Area_of_traiangle) \n",
    "    Height1=int(input(\"Height1:\"))\n",
    "    Height2=int(input(\"Height2:\"))\n",
    "    Breadth1=int(input(\"Breadth1:\"))\n",
    "    print('Perimeter formula:, Height1+Height2+Breadth1') \n",
    "    Perimeter_of_Triangle= (Height1+Height2+Breadth1)\n",
    "    print('Perimeter of Triangle:',Perimeter_of_Triangle)\n",
    "    \n",
    "   "
   ]
  },
  {
   "cell_type": "code",
   "execution_count": 112,
   "id": "cbc18fe5-8481-4344-ac5f-8e52baa3befa",
   "metadata": {},
   "outputs": [
    {
     "name": "stdin",
     "output_type": "stream",
     "text": [
      "Height: 32\n",
      "Breadth: 34\n"
     ]
    },
    {
     "name": "stdout",
     "output_type": "stream",
     "text": [
      "Area formula:, (Height*Breadth)/2\n",
      "Area_of_traiangle: 544.0\n"
     ]
    },
    {
     "name": "stdin",
     "output_type": "stream",
     "text": [
      "Height1: 2\n",
      "Height2: 4\n",
      "Breadth1: 4\n"
     ]
    },
    {
     "name": "stdout",
     "output_type": "stream",
     "text": [
      "Perimeter formula:, Height1+Height2+Breadth1\n",
      "Perimeter of Triangle: 10\n"
     ]
    }
   ],
   "source": [
    "Area_perimeter_of_tri()"
   ]
  },
  {
   "cell_type": "code",
   "execution_count": null,
   "id": "8e76528f-57a3-40df-8ce5-dbc7ed5fdf05",
   "metadata": {},
   "outputs": [],
   "source": []
  }
 ],
 "metadata": {
  "kernelspec": {
   "display_name": "Python 3 (ipykernel)",
   "language": "python",
   "name": "python3"
  },
  "language_info": {
   "codemirror_mode": {
    "name": "ipython",
    "version": 3
   },
   "file_extension": ".py",
   "mimetype": "text/x-python",
   "name": "python",
   "nbconvert_exporter": "python",
   "pygments_lexer": "ipython3",
   "version": "3.12.7"
  }
 },
 "nbformat": 4,
 "nbformat_minor": 5
}
