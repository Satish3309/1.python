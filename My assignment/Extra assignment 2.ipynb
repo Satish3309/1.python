{
 "cells": [
  {
   "cell_type": "code",
   "execution_count": 1,
   "id": "92c37da2-4975-447d-84af-e810315bbd4f",
   "metadata": {},
   "outputs": [
    {
     "name": "stdout",
     "output_type": "stream",
     "text": [
      "0\n",
      "1\n",
      "2\n",
      "3\n",
      "4\n",
      "5\n",
      "6\n",
      "7\n",
      "8\n",
      "9\n",
      "10\n",
      "11\n",
      "12\n",
      "13\n",
      "14\n",
      "15\n",
      "16\n",
      "17\n",
      "18\n",
      "19\n"
     ]
    }
   ],
   "source": [
    "for numb in range(0,20):\n",
    "    print(numb)\n"
   ]
  },
  {
   "cell_type": "code",
   "execution_count": 2,
   "id": "fe6f169f-1d40-4b26-85f5-615ffb13cb81",
   "metadata": {},
   "outputs": [
    {
     "name": "stdout",
     "output_type": "stream",
     "text": [
      "10\n",
      "11\n",
      "12\n",
      "13\n",
      "14\n",
      "15\n",
      "16\n",
      "17\n",
      "18\n",
      "19\n"
     ]
    }
   ],
   "source": [
    "for book in range(10,20):\n",
    "    print(book)"
   ]
  },
  {
   "cell_type": "code",
   "execution_count": 7,
   "id": "495d898a-d302-4437-b019-78c6dc9674f7",
   "metadata": {},
   "outputs": [
    {
     "name": "stdout",
     "output_type": "stream",
     "text": [
      "[10, 20, 14, 55, 43, 87, 76]\n",
      "Number of item in the list2:\n",
      "7\n"
     ]
    }
   ],
   "source": [
    "my_list=[10,20,14,55,43,87,76]\n",
    "Number_of_item=len(my_list)\n",
    "print(my_list)\n",
    "print(\"Number of item in the list2:\")\n",
    "print(Number_of_item)"
   ]
  },
  {
   "cell_type": "code",
   "execution_count": 13,
   "id": "f43a6870-b6e5-41b7-b0de-a20fc0ca57e3",
   "metadata": {},
   "outputs": [
    {
     "name": "stdout",
     "output_type": "stream",
     "text": [
      "Artificial intelligence\n",
      "A\n",
      "r\n",
      "t\n",
      "i\n",
      "f\n",
      "i\n",
      "c\n",
      "i\n",
      "a\n",
      "l\n",
      " \n",
      "i\n",
      "n\n",
      "t\n",
      "e\n",
      "l\n",
      "l\n",
      "i\n",
      "g\n",
      "e\n",
      "n\n",
      "c\n",
      "e\n"
     ]
    }
   ],
   "source": [
    "string =\"Artificial intelligence\"\n",
    "print(\"Artificial intelligence\")\n",
    "for name in string :\n",
    "    print(name)\n",
    "    "
   ]
  },
  {
   "cell_type": "code",
   "execution_count": 14,
   "id": "b8eb9cb1-2bab-4218-98e4-388812c60a64",
   "metadata": {},
   "outputs": [
    {
     "name": "stdin",
     "output_type": "stream",
     "text": [
      "-Your name- Satishkumar M\n",
      "-Your Age- 31\n",
      "-Your profession- Ai Engineer\n"
     ]
    }
   ],
   "source": [
    "Name=input(\"-Your name-\") \n",
    "Age=input(\"-Your Age-\")\n",
    "School_Name=input(\"-Your profession-\") \n"
   ]
  },
  {
   "cell_type": "code",
   "execution_count": 3,
   "id": "4010d52e-e23c-47ba-aced-9ffaa2730fb2",
   "metadata": {},
   "outputs": [
    {
     "name": "stdout",
     "output_type": "stream",
     "text": [
      "(1, 'Welcome') (2, 'HOPE')\n"
     ]
    }
   ],
   "source": [
    "tuple1=(1,'Welcome')\n",
    "tuple2=(2,'HOPE')\n",
    "print(tuple1,tuple2)"
   ]
  },
  {
   "cell_type": "code",
   "execution_count": 5,
   "id": "bb4202c1-a26a-40fc-8f08-79f1af88f869",
   "metadata": {},
   "outputs": [
    {
     "name": "stdout",
     "output_type": "stream",
     "text": [
      "((0, 1, 2, 3), ('Python', 'HOPE'))\n"
     ]
    }
   ],
   "source": [
    "tuple1=(0,1,2,3)\n",
    "tuple2=('Python','HOPE')\n",
    "tuple3=((tuple1),(tuple2))\n",
    "print(tuple3)"
   ]
  },
  {
   "cell_type": "code",
   "execution_count": 55,
   "id": "68ea4e7d-6d9d-4356-86c5-ee2478a0f246",
   "metadata": {},
   "outputs": [
    {
     "name": "stdout",
     "output_type": "stream",
     "text": [
      "19 is odd number\n",
      "25 is odd number\n",
      "1 is odd number\n"
     ]
    }
   ],
   "source": [
    "page_no=[20,10,16,19,25,1,276,188]\n",
    "for num in page_no:\n",
    "    if(num%2==1):\n",
    "        print(num,'is odd number')"
   ]
  },
  {
   "cell_type": "code",
   "execution_count": 56,
   "id": "69ff7a8e-4e55-496d-a49e-b5a7c6336f13",
   "metadata": {},
   "outputs": [
    {
     "name": "stdout",
     "output_type": "stream",
     "text": [
      "20 is even number\n",
      "10 is even number\n",
      "16 is even number\n",
      "276 is even number\n",
      "188 is even number\n"
     ]
    }
   ],
   "source": [
    "bus_no=[20,10,16,19,25,1,276,188]\n",
    "for num in page_no:\n",
    "    if(num%2==0):\n",
    "        print(num,'is even number')"
   ]
  },
  {
   "cell_type": "code",
   "execution_count": null,
   "id": "7ec223c6-e3bf-45fe-a278-51a7d4210846",
   "metadata": {},
   "outputs": [],
   "source": []
  },
  {
   "cell_type": "code",
   "execution_count": null,
   "id": "16535431-fb54-44b5-9dbe-1f041a56bb30",
   "metadata": {},
   "outputs": [],
   "source": []
  }
 ],
 "metadata": {
  "kernelspec": {
   "display_name": "Python 3 (ipykernel)",
   "language": "python",
   "name": "python3"
  },
  "language_info": {
   "codemirror_mode": {
    "name": "ipython",
    "version": 3
   },
   "file_extension": ".py",
   "mimetype": "text/x-python",
   "name": "python",
   "nbconvert_exporter": "python",
   "pygments_lexer": "ipython3",
   "version": "3.12.7"
  }
 },
 "nbformat": 4,
 "nbformat_minor": 5
}
