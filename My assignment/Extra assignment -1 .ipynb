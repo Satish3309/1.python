{
 "cells": [
  {
   "cell_type": "code",
   "execution_count": 1,
   "id": "e8634930-0aa2-4558-b992-ce2ab36b7d35",
   "metadata": {},
   "outputs": [
    {
     "name": "stdout",
     "output_type": "stream",
     "text": [
      "HOPE AI\n"
     ]
    }
   ],
   "source": [
    "print(\"HOPE AI\")"
   ]
  },
  {
   "cell_type": "code",
   "execution_count": 4,
   "id": "bc03d56f-035a-4e5a-b318-5c43f03ba8cc",
   "metadata": {},
   "outputs": [
    {
     "name": "stdin",
     "output_type": "stream",
     "text": [
      "Enter your institute name? : HOPE AI\n"
     ]
    }
   ],
   "source": [
    "Insitute_Name=input(\"Enter your institute name? :\") "
   ]
  },
  {
   "cell_type": "code",
   "execution_count": 5,
   "id": "a4f784f5-a2da-4f12-9763-41170d5e50ac",
   "metadata": {},
   "outputs": [
    {
     "name": "stdin",
     "output_type": "stream",
     "text": [
      "Enter your name: Satishkumar M\n",
      "Enter your age: 31\n",
      "Enter your school name: Bala mandir. hr. sec. school\n",
      "Enter your drgree: B.E CE\n"
     ]
    }
   ],
   "source": [
    "Name=input(\"Enter your name:\") \n",
    "Age=input(\"Enter your age:\")\n",
    "School_Name=input(\"Enter your school name:\") \n",
    "Degree=input(\"Enter your drgree:\") "
   ]
  },
  {
   "cell_type": "code",
   "execution_count": 14,
   "id": "74b23b20-3592-48c3-bc2e-f6f3d501e842",
   "metadata": {},
   "outputs": [
    {
     "name": "stdout",
     "output_type": "stream",
     "text": [
      "a= 43\n",
      "b= 34\n",
      "Add=77\n"
     ]
    }
   ],
   "source": [
    "a= 43 \n",
    "print(\"a= 43\")\n",
    "b= 34 \n",
    "print(\"b= 34\")\n",
    "Add= a+b\n",
    "print(\"Add=77\")\n",
    " "
   ]
  },
  {
   "cell_type": "code",
   "execution_count": 15,
   "id": "553b9a75-54b7-4da0-aae5-330ea32046cf",
   "metadata": {},
   "outputs": [
    {
     "name": "stdout",
     "output_type": "stream",
     "text": [
      "a= 43\n",
      "b= 34\n",
      "Sub=9\n"
     ]
    }
   ],
   "source": [
    "a= 43 \n",
    "print(\"a= 43\")\n",
    "b= 34 \n",
    "print(\"b= 34\")\n",
    "Add= a-b\n",
    "print(\"Sub=9\")"
   ]
  },
  {
   "cell_type": "code",
   "execution_count": 16,
   "id": "27d0af20-17c3-4f0f-9fcd-c0edb3f0c637",
   "metadata": {},
   "outputs": [
    {
     "name": "stdout",
     "output_type": "stream",
     "text": [
      "a= 63\n",
      "a= 97\n",
      "Mul= 6111\n",
      "6111\n"
     ]
    }
   ],
   "source": [
    "a= 63 \n",
    "print(\"a= 63\")\n",
    "b= 97 \n",
    "print(\"a= 97\")\n",
    "Mul = a*b\n",
    "print(\"Mul= 6111\")\n",
    "print(Mul)"
   ]
  },
  {
   "cell_type": "code",
   "execution_count": 21,
   "id": "23b89405-19eb-48a5-94a4-22db767219a4",
   "metadata": {},
   "outputs": [
    {
     "name": "stdout",
     "output_type": "stream",
     "text": [
      "a= 76\n",
      "b= 31\n",
      "2.4516129032258065\n",
      "fload_div= 2.4516129032258065\n"
     ]
    }
   ],
   "source": [
    "a= 76 \n",
    "print(\"a= 76\")\n",
    "b= 31\n",
    "print(\"b= 31\")\n",
    "fload_div= a/b\n",
    "print(fload_div)\n",
    "print(\"fload_div= 2.4516129032258065\")\n"
   ]
  },
  {
   "cell_type": "code",
   "execution_count": 25,
   "id": "260d6b1b-9dd8-4828-a60e-1fb99a8156c7",
   "metadata": {},
   "outputs": [
    {
     "name": "stdout",
     "output_type": "stream",
     "text": [
      "a= 76\n",
      "b= 31\n",
      "2\n"
     ]
    }
   ],
   "source": [
    "a= 76 \n",
    "print(\"a= 76\")\n",
    "b= 31 \n",
    "print(\"b= 31\")\n",
    "Floor_Div = a//b \n",
    "print(Floor_Div)\n"
   ]
  },
  {
   "cell_type": "code",
   "execution_count": 27,
   "id": "6082abe9-2c9f-4529-99cc-d4997cf70582",
   "metadata": {},
   "outputs": [
    {
     "name": "stdout",
     "output_type": "stream",
     "text": [
      "14\n"
     ]
    }
   ],
   "source": [
    "a= 76 \n",
    "b= 31 \n",
    "Modulo = a%b\n",
    "print(Modulo)\n",
    "\n"
   ]
  },
  {
   "cell_type": "code",
   "execution_count": 28,
   "id": "56f99778-8941-4f79-b2a6-9445de30c23f",
   "metadata": {},
   "outputs": [
    {
     "name": "stdout",
     "output_type": "stream",
     "text": [
      "256\n"
     ]
    }
   ],
   "source": [
    "a= 4 \n",
    "b= 4 \n",
    "Power = 4**4\n",
    "print(Power)"
   ]
  },
  {
   "cell_type": "code",
   "execution_count": null,
   "id": "fb2ecbaf-9f16-456f-9e77-3afc59f4a75b",
   "metadata": {},
   "outputs": [],
   "source": []
  }
 ],
 "metadata": {
  "kernelspec": {
   "display_name": "Python 3 (ipykernel)",
   "language": "python",
   "name": "python3"
  },
  "language_info": {
   "codemirror_mode": {
    "name": "ipython",
    "version": 3
   },
   "file_extension": ".py",
   "mimetype": "text/x-python",
   "name": "python",
   "nbconvert_exporter": "python",
   "pygments_lexer": "ipython3",
   "version": "3.12.7"
  }
 },
 "nbformat": 4,
 "nbformat_minor": 5
}
