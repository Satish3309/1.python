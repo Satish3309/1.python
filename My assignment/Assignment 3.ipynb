{
 "cells": [
  {
   "cell_type": "code",
   "execution_count": 12,
   "id": "582a5daa-bc3a-4af8-8176-853313f61ee3",
   "metadata": {},
   "outputs": [
    {
     "name": "stdin",
     "output_type": "stream",
     "text": [
      "Enter the value: 10\n"
     ]
    },
    {
     "name": "stdout",
     "output_type": "stream",
     "text": [
      "correct\n"
     ]
    }
   ],
   "source": [
    "v=int(input(\"Enter the value:\"))\n",
    "if(v==10):\n",
    "    print(\"correct\")\n"
   ]
  },
  {
   "cell_type": "code",
   "execution_count": 24,
   "id": "8aa6347c-b873-4414-afc0-145a3f616e2b",
   "metadata": {},
   "outputs": [
    {
     "name": "stdin",
     "output_type": "stream",
     "text": [
      "Enter the password: Hope@123\n"
     ]
    },
    {
     "name": "stdout",
     "output_type": "stream",
     "text": [
      "Your password is correct\n"
     ]
    }
   ],
   "source": [
    "password=input('Enter the password:')\n",
    "if (password== 'Hope@123'):\n",
    "          print('Your password is correct')\n",
    "else:\n",
    "    print('your password in correct')"
   ]
  },
  {
   "cell_type": "code",
   "execution_count": 23,
   "id": "c1586526-ea55-44fc-9a35-278588f0b25f",
   "metadata": {},
   "outputs": [
    {
     "name": "stdin",
     "output_type": "stream",
     "text": [
      "Enter the password: 213\n"
     ]
    },
    {
     "name": "stdout",
     "output_type": "stream",
     "text": [
      "your password in correct\n"
     ]
    }
   ],
   "source": [
    "password=int(input('Enter the password:'))\n",
    "if (password==123):\n",
    "          print('Your password is correct')\n",
    "else:\n",
    "    print('your password in correct')"
   ]
  },
  {
   "cell_type": "code",
   "execution_count": 39,
   "id": "9d67caa1-5c48-4983-b890-109de2e7e71c",
   "metadata": {},
   "outputs": [
    {
     "name": "stdin",
     "output_type": "stream",
     "text": [
      "Enter the age: 20\n"
     ]
    },
    {
     "name": "stdout",
     "output_type": "stream",
     "text": [
      "Adult\n"
     ]
    }
   ],
   "source": [
    "Age=int(input('Enter the age:'))\n",
    "if(Age<18):\n",
    "        print('Children')\n",
    "elif(Age==20):\n",
    "        print('Adult')\n",
    "elif(Age<59):\n",
    "        print('Citizen')\n",
    "else:\n",
    "    print('Senior_citizen')\n",
    "    "
   ]
  },
  {
   "cell_type": "code",
   "execution_count": 56,
   "id": "985f5b7b-1448-4624-8a52-3abe9e2bbe79",
   "metadata": {},
   "outputs": [
    {
     "name": "stdout",
     "output_type": "stream",
     "text": [
      "Children\n",
      "Citizen\n",
      "Citizen\n",
      "Citizen\n",
      "Senior_citizen\n"
     ]
    }
   ],
   "source": [
    "num=[12,24,35,58,62]\n",
    "for Age in num:\n",
    "    if(Age<18):\n",
    "        print('Children')\n",
    "    elif(Age<59):\n",
    "        print('Citizen')\n",
    "    else:\n",
    "        print('Senior_citizen')\n",
    "     \n"
   ]
  },
  {
   "cell_type": "code",
   "execution_count": 63,
   "id": "1faefdc1-bdb5-42c0-b055-af2728a49495",
   "metadata": {},
   "outputs": [
    {
     "name": "stdout",
     "output_type": "stream",
     "text": [
      "5 odd\n",
      "6 Even\n",
      "7 odd\n",
      "8 Even\n"
     ]
    }
   ],
   "source": [
    "list = [ 5,6,7,8]\n",
    "for num in list:\n",
    "    if (num%2==0):\n",
    "        print(num,'Even')\n",
    "    else:\n",
    "        print(num,'odd')"
   ]
  },
  {
   "cell_type": "code",
   "execution_count": 64,
   "id": "e7d9de1e-4a55-418a-b951-84abaa03b4e6",
   "metadata": {},
   "outputs": [
    {
     "name": "stdin",
     "output_type": "stream",
     "text": [
      "Enter any number: 1\n"
     ]
    },
    {
     "name": "stdout",
     "output_type": "stream",
     "text": [
      "No is positive\n"
     ]
    }
   ],
   "source": [
    "num=int(input('Enter any number:'))\n",
    "if (num>=0):\n",
    "          print('No is positive')\n",
    "else:\n",
    "    print('No is negative')"
   ]
  },
  {
   "cell_type": "code",
   "execution_count": 65,
   "id": "93aec5eb-ccd4-472b-8550-cd19770a6ddd",
   "metadata": {},
   "outputs": [
    {
     "name": "stdin",
     "output_type": "stream",
     "text": [
      "Enter a number number to check: 22\n"
     ]
    },
    {
     "name": "stdout",
     "output_type": "stream",
     "text": [
      "No is not divisible\n"
     ]
    }
   ],
   "source": [
    "num=int(input('Enter a number number to check:'))\n",
    "if (num  % 5 ==0):\n",
    "          print('No is divisible')\n",
    "else:\n",
    "    print('No is not divisible')"
   ]
  },
  {
   "cell_type": "code",
   "execution_count": null,
   "id": "f3e11035-80e3-40b8-98ac-f7c5a4c5b6eb",
   "metadata": {},
   "outputs": [],
   "source": []
  }
 ],
 "metadata": {
  "kernelspec": {
   "display_name": "Python 3 (ipykernel)",
   "language": "python",
   "name": "python3"
  },
  "language_info": {
   "codemirror_mode": {
    "name": "ipython",
    "version": 3
   },
   "file_extension": ".py",
   "mimetype": "text/x-python",
   "name": "python",
   "nbconvert_exporter": "python",
   "pygments_lexer": "ipython3",
   "version": "3.12.7"
  }
 },
 "nbformat": 4,
 "nbformat_minor": 5
}
