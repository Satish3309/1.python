{
 "cells": [
  {
   "cell_type": "code",
   "execution_count": 22,
   "id": "8790ebff-72af-480f-950b-bc240379a195",
   "metadata": {},
   "outputs": [],
   "source": [
    "class function_assignment():\n",
    "    def SubfieldsInAI_Subfields():\n",
    "        for field in list:\n",
    "            print(field)\n",
    "\n",
    "    def OddEven_OddEven():\n",
    "        num=int(input(\"Enter a number:\"))\n",
    "        if(num%2==0):\n",
    "            print(num,'is even number')\n",
    "            message = 'even number'\n",
    "        else:\n",
    "            print(num,'is odd number')\n",
    "            message = 'odd number'\n",
    "        return message\n",
    "\n",
    "    def Elegiblity_ForMarriage_Elegible():\n",
    "        Gen=input(\"Your Genter:\")\n",
    "        Age=int(input(\"Your Age:\"))\n",
    "        if(Gen==\"Male\"):\n",
    "            if(Age<=21): \n",
    "                print('NOT ELIGIBLE.wait until your age turn 21')\n",
    "                message ='NOT ELIGIBLE'    \n",
    "            else:\n",
    "                print('ELIGIBLE')\n",
    "                message = 'ELIGIBLE'\n",
    "        elif(Gen==\"Female\"):\n",
    "            if(Age<=18):\n",
    "                print('NOT ELIGIBLE.wait until your age turn 18')\n",
    "                message ='NOT ELIGIBLE'               \n",
    "            else:\n",
    "                print('ELIGIBLE')\n",
    "                message = 'ELIGIBLE'\n",
    "        else:\n",
    "            print('Invadid data.Enter Male or Female')\n",
    "            message = 'Invadid data.Enter Male or Female'\n",
    "        return message\n",
    "\n",
    "    def Find_avg(Sub1,Sub2,Sub3,Sub4,Sub5):\n",
    "        Add=(Sub1+Sub2+Sub3+Sub4+Sub5)\n",
    "        print(\"Total:\", Add)\n",
    "        persentage=(Add/5)\n",
    "        print('Percentage:',persentage)\n",
    "        return persentage\n",
    "\n",
    "    def Area_perimeter_of_tri():\n",
    "        Height=int(input(\"Height:\"))\n",
    "        Breadth=int(input(\"Breadth:\"))\n",
    "        print('Area formula:, (Height*Breadth)/2')\n",
    "        Area_of_traiangle=(Height*Breadth)/2\n",
    "        print('Area_of_traiangle:',Area_of_traiangle) \n",
    "        Height1=int(input(\"Height1:\"))\n",
    "        Height2=int(input(\"Height2:\"))\n",
    "        Breadth1=int(input(\"Breadth1:\"))\n",
    "        print('Perimeter formula:, Height1+Height2+Breadth1') \n",
    "        Perimeter_of_Triangle= (Height1+Height2+Breadth1)\n",
    "        print('Perimeter of Triangle:',Perimeter_of_Triangle)"
   ]
  },
  {
   "cell_type": "code",
   "execution_count": 8,
   "id": "aeb831d6-fa47-445b-8616-95c730fe80e3",
   "metadata": {},
   "outputs": [
    {
     "name": "stdin",
     "output_type": "stream",
     "text": [
      "Enter a number: 5\n"
     ]
    },
    {
     "name": "stdout",
     "output_type": "stream",
     "text": [
      "5 is odd number\n"
     ]
    }
   ],
   "source": [
    "result1=function_assignment.OddEven_OddEven()"
   ]
  },
  {
   "cell_type": "code",
   "execution_count": 10,
   "id": "937f9a42-5186-4d02-8034-e31ea192e3ce",
   "metadata": {},
   "outputs": [
    {
     "name": "stdin",
     "output_type": "stream",
     "text": [
      "Your Genter: Male\n",
      "Your Age: 19\n"
     ]
    },
    {
     "name": "stdout",
     "output_type": "stream",
     "text": [
      "NOT ELIGIBLE.wait until your age turn 21\n"
     ]
    }
   ],
   "source": [
    "result2=function_assignment.Elegiblity_ForMarriage_Elegible()"
   ]
  },
  {
   "cell_type": "code",
   "execution_count": 23,
   "id": "fb81e55c-e61f-43b3-936d-64474c9fa9b8",
   "metadata": {},
   "outputs": [
    {
     "name": "stdout",
     "output_type": "stream",
     "text": [
      "Total: 468\n",
      "Percentage: 93.6\n"
     ]
    }
   ],
   "source": [
    "result3=function_assignment.Find_avg(98,87,95,95,93)"
   ]
  },
  {
   "cell_type": "code",
   "execution_count": 24,
   "id": "c1cad94b-0031-42f6-8273-5457eadfb5eb",
   "metadata": {},
   "outputs": [
    {
     "name": "stdin",
     "output_type": "stream",
     "text": [
      "Height: 32\n",
      "Breadth: 34\n"
     ]
    },
    {
     "name": "stdout",
     "output_type": "stream",
     "text": [
      "Area formula:, (Height*Breadth)/2\n",
      "Area_of_traiangle: 544.0\n"
     ]
    },
    {
     "name": "stdin",
     "output_type": "stream",
     "text": [
      "Height1: 2\n",
      "Height2: 4\n",
      "Breadth1: 4\n"
     ]
    },
    {
     "name": "stdout",
     "output_type": "stream",
     "text": [
      "Perimeter formula:, Height1+Height2+Breadth1\n",
      "Perimeter of Triangle: 10\n"
     ]
    }
   ],
   "source": [
    "result3=function_assignment.Area_perimeter_of_tri()"
   ]
  },
  {
   "cell_type": "code",
   "execution_count": null,
   "id": "605e6bf4-3752-49f0-8cf8-bb9e1df30c79",
   "metadata": {},
   "outputs": [],
   "source": []
  }
 ],
 "metadata": {
  "kernelspec": {
   "display_name": "Python 3 (ipykernel)",
   "language": "python",
   "name": "python3"
  },
  "language_info": {
   "codemirror_mode": {
    "name": "ipython",
    "version": 3
   },
   "file_extension": ".py",
   "mimetype": "text/x-python",
   "name": "python",
   "nbconvert_exporter": "python",
   "pygments_lexer": "ipython3",
   "version": "3.12.7"
  }
 },
 "nbformat": 4,
 "nbformat_minor": 5
}
