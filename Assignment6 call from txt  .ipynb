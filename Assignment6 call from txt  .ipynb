{
 "cells": [
  {
   "cell_type": "code",
   "execution_count": 7,
   "id": "44a3c7de-4a9d-4e41-9fb4-0e47730ac906",
   "metadata": {},
   "outputs": [],
   "source": [
    "from Function_Assignment import function_assignment"
   ]
  },
  {
   "cell_type": "code",
   "execution_count": 9,
   "id": "6ac74d70-4602-450f-a19e-0f9dc8df14dd",
   "metadata": {},
   "outputs": [
    {
     "name": "stdin",
     "output_type": "stream",
     "text": [
      "Enter a number: 10\n"
     ]
    },
    {
     "name": "stdout",
     "output_type": "stream",
     "text": [
      "10 is even number\n"
     ]
    },
    {
     "data": {
      "text/plain": [
       "'even number'"
      ]
     },
     "execution_count": 9,
     "metadata": {},
     "output_type": "execute_result"
    }
   ],
   "source": [
    "function_assignment.OddEven_OddEven()"
   ]
  },
  {
   "cell_type": "code",
   "execution_count": 10,
   "id": "2b09a46a-75a4-4cc9-ac00-1a8c3d93ce81",
   "metadata": {},
   "outputs": [
    {
     "name": "stdin",
     "output_type": "stream",
     "text": [
      "Your Genter: Other\n",
      "Your Age: 20\n"
     ]
    },
    {
     "name": "stdout",
     "output_type": "stream",
     "text": [
      "Invadid data.Enter Male or Female\n"
     ]
    },
    {
     "data": {
      "text/plain": [
       "'Invadid data.Enter Male or Female'"
      ]
     },
     "execution_count": 10,
     "metadata": {},
     "output_type": "execute_result"
    }
   ],
   "source": [
    "function_assignment.Elegiblity_ForMarriage_Elegible()"
   ]
  },
  {
   "cell_type": "code",
   "execution_count": 12,
   "id": "4b0f4916-feb0-47ca-93f8-283f880b63be",
   "metadata": {},
   "outputs": [
    {
     "name": "stdin",
     "output_type": "stream",
     "text": [
      "Your Genter: 22\n",
      "Your Age: 22\n"
     ]
    },
    {
     "name": "stdout",
     "output_type": "stream",
     "text": [
      "Invadid data.Enter Male or Female\n"
     ]
    },
    {
     "data": {
      "text/plain": [
       "'Invadid data.Enter Male or Female'"
      ]
     },
     "execution_count": 12,
     "metadata": {},
     "output_type": "execute_result"
    }
   ],
   "source": [
    "function_assignment.Elegiblity_ForMarriage_Elegible()"
   ]
  },
  {
   "cell_type": "code",
   "execution_count": 13,
   "id": "702f79e5-2860-4c33-bdba-aef25178be57",
   "metadata": {},
   "outputs": [
    {
     "name": "stdin",
     "output_type": "stream",
     "text": [
      "Your Genter: Male\n",
      "Your Age: 22\n"
     ]
    },
    {
     "name": "stdout",
     "output_type": "stream",
     "text": [
      "ELIGIBLE\n"
     ]
    },
    {
     "data": {
      "text/plain": [
       "'ELIGIBLE'"
      ]
     },
     "execution_count": 13,
     "metadata": {},
     "output_type": "execute_result"
    }
   ],
   "source": [
    "function_assignment.Elegiblity_ForMarriage_Elegible()"
   ]
  },
  {
   "cell_type": "code",
   "execution_count": 14,
   "id": "0a55e5d3-3c26-4a16-9564-88b802d24521",
   "metadata": {},
   "outputs": [
    {
     "name": "stdout",
     "output_type": "stream",
     "text": [
      "Total: 468\n",
      "Percentage: 93.6\n"
     ]
    },
    {
     "data": {
      "text/plain": [
       "93.6"
      ]
     },
     "execution_count": 14,
     "metadata": {},
     "output_type": "execute_result"
    }
   ],
   "source": [
    "function_assignment.Find_avg(98,87,95,95,93)"
   ]
  },
  {
   "cell_type": "code",
   "execution_count": 15,
   "id": "538fb901-9dda-4e4c-b88f-982e582c32af",
   "metadata": {},
   "outputs": [
    {
     "name": "stdin",
     "output_type": "stream",
     "text": [
      "Height: 32\n",
      "Breadth: 34\n"
     ]
    },
    {
     "name": "stdout",
     "output_type": "stream",
     "text": [
      "Area formula:, (Height*Breadth)/2\n",
      "Area_of_traiangle: 544.0\n"
     ]
    },
    {
     "name": "stdin",
     "output_type": "stream",
     "text": [
      "Height1: 2\n",
      "Height2: 4\n",
      "Breadth1: 4\n"
     ]
    },
    {
     "name": "stdout",
     "output_type": "stream",
     "text": [
      "Perimeter formula:, Height1+Height2+Breadth1\n",
      "Perimeter of Triangle: 10\n"
     ]
    }
   ],
   "source": [
    "function_assignment.Area_perimeter_of_tri()"
   ]
  },
  {
   "cell_type": "code",
   "execution_count": null,
   "id": "d82bd9df-ce5d-4dbc-aef7-edff113ab71f",
   "metadata": {},
   "outputs": [],
   "source": []
  }
 ],
 "metadata": {
  "kernelspec": {
   "display_name": "Python 3 (ipykernel)",
   "language": "python",
   "name": "python3"
  },
  "language_info": {
   "codemirror_mode": {
    "name": "ipython",
    "version": 3
   },
   "file_extension": ".py",
   "mimetype": "text/x-python",
   "name": "python",
   "nbconvert_exporter": "python",
   "pygments_lexer": "ipython3",
   "version": "3.12.7"
  }
 },
 "nbformat": 4,
 "nbformat_minor": 5
}
